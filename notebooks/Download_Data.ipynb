{
 "cells": [
  {
   "cell_type": "code",
   "execution_count": 8,
   "metadata": {},
   "outputs": [],
   "source": [
    "import pandas as pd\n",
    "import numpy as np\n",
    "import matplotlib.pyplot as plt\n",
    "import tarfile"
   ]
  },
  {
   "cell_type": "markdown",
   "metadata": {},
   "source": [
    "# Reading and Extracting Data\n",
    "\n",
    "This notebook can be used to download the data necessary for the project. The Folder contains SHIPs and IBTRac data which are txt and csv files respectively."
   ]
  },
  {
   "cell_type": "code",
   "execution_count": 10,
   "metadata": {},
   "outputs": [],
   "source": [
    "# !wget https://github.com/UW-MLGEO/MLGEO2024_TC_Tracks_Intensity/blob/dev/data/raw/SHIPS_IBTRAC.gz #Retrriving the Data\n",
    "\n",
    "\n",
    "#Uncomment the line above to download the data\n",
    "\n",
    "\n",
    "# open file \n",
    "PATH = '/home/disk/orca/adaley17/' #Path to the data and Path where data will be extracted   \n",
    "file = tarfile.open(PATH + 'raw_data.tar.gz') #Opening Data\n",
    "  \n",
    "# extracting file \n",
    "file.extractall(PATH) #Extracting Data\n",
    "  \n",
    "file.close() #Closing File"
   ]
  }
 ],
 "metadata": {
  "kernelspec": {
   "display_name": "Python 3",
   "language": "python",
   "name": "python3"
  },
  "language_info": {
   "codemirror_mode": {
    "name": "ipython",
    "version": 3
   },
   "file_extension": ".py",
   "mimetype": "text/x-python",
   "name": "python",
   "nbconvert_exporter": "python",
   "pygments_lexer": "ipython3",
   "version": "3.8.13"
  }
 },
 "nbformat": 4,
 "nbformat_minor": 2
}
