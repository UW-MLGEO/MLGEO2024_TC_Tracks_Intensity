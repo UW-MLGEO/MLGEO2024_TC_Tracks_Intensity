{
 "cells": [
  {
   "cell_type": "code",
   "execution_count": 1,
   "metadata": {},
   "outputs": [],
   "source": [
    "# Code source: Gaël Varoquaux\n",
    "#              Andreas Müller\n",
    "# Modified for documentation by Jaques Grobler\n",
    "# License: BSD 3 clause\n",
    "\n",
    "# basic tools\n",
    "import numpy as np\n",
    "import pandas as pd\n",
    "import os\n",
    "import matplotlib.pyplot as plt\n",
    "from matplotlib.colors import ListedColormap"
   ]
  },
  {
   "cell_type": "code",
   "execution_count": 2,
   "metadata": {},
   "outputs": [],
   "source": [
    "PATH = '/home/disk/orca/adaley17/MLGEO2024_TC_Tracks_Intensity/data/'\n",
    "bt_data = 'clean/cleaned_best_track_data.csv'\n",
    "ships_data = 'ai_ready/ai_ready_SHIPS_data.csv'\n",
    "\n",
    "df_SHIPS = pd.read_csv(os.path.join(PATH, ships_data))\n",
    "df_BT = pd.read_csv(os.path.join(PATH, bt_data))"
   ]
  },
  {
   "cell_type": "code",
   "execution_count": 3,
   "metadata": {},
   "outputs": [
    {
     "data": {
      "text/html": [
       "<div>\n",
       "<style scoped>\n",
       "    .dataframe tbody tr th:only-of-type {\n",
       "        vertical-align: middle;\n",
       "    }\n",
       "\n",
       "    .dataframe tbody tr th {\n",
       "        vertical-align: top;\n",
       "    }\n",
       "\n",
       "    .dataframe thead th {\n",
       "        text-align: right;\n",
       "    }\n",
       "</style>\n",
       "<table border=\"1\" class=\"dataframe\">\n",
       "  <thead>\n",
       "    <tr style=\"text-align: right;\">\n",
       "      <th></th>\n",
       "      <th>Original_Times</th>\n",
       "      <th>Code</th>\n",
       "      <th>Times</th>\n",
       "      <th>Daily_SST_Avg</th>\n",
       "      <th>Mid_Level_RH</th>\n",
       "      <th>Vert_Vel</th>\n",
       "      <th>Vshear</th>\n",
       "      <th>MSLP</th>\n",
       "      <th>Vmax</th>\n",
       "      <th>Latitude</th>\n",
       "      <th>Longitude</th>\n",
       "    </tr>\n",
       "  </thead>\n",
       "  <tbody>\n",
       "    <tr>\n",
       "      <th>0</th>\n",
       "      <td>1982-06-02 12:00:00</td>\n",
       "      <td>AL011982</td>\n",
       "      <td>-12.0</td>\n",
       "      <td>NaN</td>\n",
       "      <td>NaN</td>\n",
       "      <td>NaN</td>\n",
       "      <td>NaN</td>\n",
       "      <td>NaN</td>\n",
       "      <td>NaN</td>\n",
       "      <td>NaN</td>\n",
       "      <td>NaN</td>\n",
       "    </tr>\n",
       "    <tr>\n",
       "      <th>1</th>\n",
       "      <td>1982-06-02 12:00:00</td>\n",
       "      <td>AL011982</td>\n",
       "      <td>-6.0</td>\n",
       "      <td>NaN</td>\n",
       "      <td>NaN</td>\n",
       "      <td>NaN</td>\n",
       "      <td>NaN</td>\n",
       "      <td>NaN</td>\n",
       "      <td>NaN</td>\n",
       "      <td>NaN</td>\n",
       "      <td>NaN</td>\n",
       "    </tr>\n",
       "    <tr>\n",
       "      <th>2</th>\n",
       "      <td>1982-06-02 12:00:00</td>\n",
       "      <td>AL011982</td>\n",
       "      <td>0.0</td>\n",
       "      <td>27.1</td>\n",
       "      <td>57.0</td>\n",
       "      <td>6.631183</td>\n",
       "      <td>15.227542</td>\n",
       "      <td>1005.0</td>\n",
       "      <td>10.28888</td>\n",
       "      <td>21.7</td>\n",
       "      <td>87.1</td>\n",
       "    </tr>\n",
       "    <tr>\n",
       "      <th>3</th>\n",
       "      <td>1982-06-02 12:00:00</td>\n",
       "      <td>AL011982</td>\n",
       "      <td>6.0</td>\n",
       "      <td>27.8</td>\n",
       "      <td>53.0</td>\n",
       "      <td>3.966363</td>\n",
       "      <td>15.536209</td>\n",
       "      <td>1004.0</td>\n",
       "      <td>12.86110</td>\n",
       "      <td>22.2</td>\n",
       "      <td>86.5</td>\n",
       "    </tr>\n",
       "    <tr>\n",
       "      <th>4</th>\n",
       "      <td>1982-06-02 12:00:00</td>\n",
       "      <td>AL011982</td>\n",
       "      <td>12.0</td>\n",
       "      <td>27.9</td>\n",
       "      <td>56.0</td>\n",
       "      <td>4.403641</td>\n",
       "      <td>15.330431</td>\n",
       "      <td>1003.0</td>\n",
       "      <td>15.43332</td>\n",
       "      <td>22.6</td>\n",
       "      <td>85.8</td>\n",
       "    </tr>\n",
       "    <tr>\n",
       "      <th>...</th>\n",
       "      <td>...</td>\n",
       "      <td>...</td>\n",
       "      <td>...</td>\n",
       "      <td>...</td>\n",
       "      <td>...</td>\n",
       "      <td>...</td>\n",
       "      <td>...</td>\n",
       "      <td>...</td>\n",
       "      <td>...</td>\n",
       "      <td>...</td>\n",
       "      <td>...</td>\n",
       "    </tr>\n",
       "    <tr>\n",
       "      <th>318545</th>\n",
       "      <td>2022-11-11 12:00:00</td>\n",
       "      <td>AL172022</td>\n",
       "      <td>96.0</td>\n",
       "      <td>NaN</td>\n",
       "      <td>NaN</td>\n",
       "      <td>NaN</td>\n",
       "      <td>NaN</td>\n",
       "      <td>NaN</td>\n",
       "      <td>NaN</td>\n",
       "      <td>NaN</td>\n",
       "      <td>NaN</td>\n",
       "    </tr>\n",
       "    <tr>\n",
       "      <th>318546</th>\n",
       "      <td>2022-11-11 12:00:00</td>\n",
       "      <td>AL172022</td>\n",
       "      <td>102.0</td>\n",
       "      <td>NaN</td>\n",
       "      <td>NaN</td>\n",
       "      <td>NaN</td>\n",
       "      <td>NaN</td>\n",
       "      <td>NaN</td>\n",
       "      <td>NaN</td>\n",
       "      <td>NaN</td>\n",
       "      <td>NaN</td>\n",
       "    </tr>\n",
       "    <tr>\n",
       "      <th>318547</th>\n",
       "      <td>2022-11-11 12:00:00</td>\n",
       "      <td>AL172022</td>\n",
       "      <td>108.0</td>\n",
       "      <td>NaN</td>\n",
       "      <td>NaN</td>\n",
       "      <td>NaN</td>\n",
       "      <td>NaN</td>\n",
       "      <td>NaN</td>\n",
       "      <td>NaN</td>\n",
       "      <td>NaN</td>\n",
       "      <td>NaN</td>\n",
       "    </tr>\n",
       "    <tr>\n",
       "      <th>318548</th>\n",
       "      <td>2022-11-11 12:00:00</td>\n",
       "      <td>AL172022</td>\n",
       "      <td>114.0</td>\n",
       "      <td>NaN</td>\n",
       "      <td>NaN</td>\n",
       "      <td>NaN</td>\n",
       "      <td>NaN</td>\n",
       "      <td>NaN</td>\n",
       "      <td>NaN</td>\n",
       "      <td>NaN</td>\n",
       "      <td>NaN</td>\n",
       "    </tr>\n",
       "    <tr>\n",
       "      <th>318549</th>\n",
       "      <td>2022-11-11 12:00:00</td>\n",
       "      <td>AL172022</td>\n",
       "      <td>120.0</td>\n",
       "      <td>NaN</td>\n",
       "      <td>NaN</td>\n",
       "      <td>NaN</td>\n",
       "      <td>NaN</td>\n",
       "      <td>NaN</td>\n",
       "      <td>NaN</td>\n",
       "      <td>NaN</td>\n",
       "      <td>NaN</td>\n",
       "    </tr>\n",
       "  </tbody>\n",
       "</table>\n",
       "<p>318550 rows × 11 columns</p>\n",
       "</div>"
      ],
      "text/plain": [
       "             Original_Times      Code  Times  Daily_SST_Avg  Mid_Level_RH  \\\n",
       "0       1982-06-02 12:00:00  AL011982  -12.0            NaN           NaN   \n",
       "1       1982-06-02 12:00:00  AL011982   -6.0            NaN           NaN   \n",
       "2       1982-06-02 12:00:00  AL011982    0.0           27.1          57.0   \n",
       "3       1982-06-02 12:00:00  AL011982    6.0           27.8          53.0   \n",
       "4       1982-06-02 12:00:00  AL011982   12.0           27.9          56.0   \n",
       "...                     ...       ...    ...            ...           ...   \n",
       "318545  2022-11-11 12:00:00  AL172022   96.0            NaN           NaN   \n",
       "318546  2022-11-11 12:00:00  AL172022  102.0            NaN           NaN   \n",
       "318547  2022-11-11 12:00:00  AL172022  108.0            NaN           NaN   \n",
       "318548  2022-11-11 12:00:00  AL172022  114.0            NaN           NaN   \n",
       "318549  2022-11-11 12:00:00  AL172022  120.0            NaN           NaN   \n",
       "\n",
       "        Vert_Vel     Vshear    MSLP      Vmax  Latitude  Longitude  \n",
       "0            NaN        NaN     NaN       NaN       NaN        NaN  \n",
       "1            NaN        NaN     NaN       NaN       NaN        NaN  \n",
       "2       6.631183  15.227542  1005.0  10.28888      21.7       87.1  \n",
       "3       3.966363  15.536209  1004.0  12.86110      22.2       86.5  \n",
       "4       4.403641  15.330431  1003.0  15.43332      22.6       85.8  \n",
       "...          ...        ...     ...       ...       ...        ...  \n",
       "318545       NaN        NaN     NaN       NaN       NaN        NaN  \n",
       "318546       NaN        NaN     NaN       NaN       NaN        NaN  \n",
       "318547       NaN        NaN     NaN       NaN       NaN        NaN  \n",
       "318548       NaN        NaN     NaN       NaN       NaN        NaN  \n",
       "318549       NaN        NaN     NaN       NaN       NaN        NaN  \n",
       "\n",
       "[318550 rows x 11 columns]"
      ]
     },
     "execution_count": 3,
     "metadata": {},
     "output_type": "execute_result"
    }
   ],
   "source": [
    "df_SHIPS\n"
   ]
  },
  {
   "cell_type": "code",
   "execution_count": 4,
   "metadata": {},
   "outputs": [
    {
     "data": {
      "text/html": [
       "<div>\n",
       "<style scoped>\n",
       "    .dataframe tbody tr th:only-of-type {\n",
       "        vertical-align: middle;\n",
       "    }\n",
       "\n",
       "    .dataframe tbody tr th {\n",
       "        vertical-align: top;\n",
       "    }\n",
       "\n",
       "    .dataframe thead th {\n",
       "        text-align: right;\n",
       "    }\n",
       "</style>\n",
       "<table border=\"1\" class=\"dataframe\">\n",
       "  <thead>\n",
       "    <tr style=\"text-align: right;\">\n",
       "      <th></th>\n",
       "      <th>ISO_TIME</th>\n",
       "      <th>USA_ATCF_ID</th>\n",
       "      <th>NAME</th>\n",
       "      <th>DIST2LAND</th>\n",
       "      <th>LANDFALL</th>\n",
       "      <th>STORM_SPEED</th>\n",
       "      <th>STORM_DIR</th>\n",
       "      <th>USA_LAT</th>\n",
       "      <th>USA_LON</th>\n",
       "      <th>USA_WIND</th>\n",
       "      <th>WMO_WIND</th>\n",
       "      <th>WMO_PRES</th>\n",
       "      <th>USA_PRES</th>\n",
       "      <th>USA_RMW</th>\n",
       "      <th>USA_WSPD</th>\n",
       "    </tr>\n",
       "  </thead>\n",
       "  <tbody>\n",
       "    <tr>\n",
       "      <th>0</th>\n",
       "      <td>1982-06-02 12:00:00</td>\n",
       "      <td>AL011982</td>\n",
       "      <td>ALBERTO</td>\n",
       "      <td>22</td>\n",
       "      <td>40744.0</td>\n",
       "      <td>3.601108</td>\n",
       "      <td>47</td>\n",
       "      <td>21.7000</td>\n",
       "      <td>-87.1000</td>\n",
       "      <td>10.288880</td>\n",
       "      <td>10.28888</td>\n",
       "      <td>1005</td>\n",
       "      <td>1005.0</td>\n",
       "      <td>NaN</td>\n",
       "      <td>10.288880</td>\n",
       "    </tr>\n",
       "    <tr>\n",
       "      <th>1</th>\n",
       "      <td>1982-06-02 15:00:00</td>\n",
       "      <td>AL011982</td>\n",
       "      <td>ALBERTO</td>\n",
       "      <td>59</td>\n",
       "      <td>109268.0</td>\n",
       "      <td>4.115552</td>\n",
       "      <td>48</td>\n",
       "      <td>21.9551</td>\n",
       "      <td>-86.8077</td>\n",
       "      <td>11.317768</td>\n",
       "      <td>NaN</td>\n",
       "      <td></td>\n",
       "      <td>1004.0</td>\n",
       "      <td>NaN</td>\n",
       "      <td>11.317768</td>\n",
       "    </tr>\n",
       "    <tr>\n",
       "      <th>2</th>\n",
       "      <td>1982-06-02 18:00:00</td>\n",
       "      <td>AL011982</td>\n",
       "      <td>ALBERTO</td>\n",
       "      <td>93</td>\n",
       "      <td>172236.0</td>\n",
       "      <td>4.115552</td>\n",
       "      <td>52</td>\n",
       "      <td>22.2000</td>\n",
       "      <td>-86.5000</td>\n",
       "      <td>12.861100</td>\n",
       "      <td>12.86110</td>\n",
       "      <td>1004</td>\n",
       "      <td>1004.0</td>\n",
       "      <td>NaN</td>\n",
       "      <td>12.861100</td>\n",
       "    </tr>\n",
       "    <tr>\n",
       "      <th>3</th>\n",
       "      <td>1982-06-02 21:00:00</td>\n",
       "      <td>AL011982</td>\n",
       "      <td>ALBERTO</td>\n",
       "      <td>130</td>\n",
       "      <td>209276.0</td>\n",
       "      <td>4.115552</td>\n",
       "      <td>58</td>\n",
       "      <td>22.4224</td>\n",
       "      <td>-86.1650</td>\n",
       "      <td>13.889988</td>\n",
       "      <td>NaN</td>\n",
       "      <td></td>\n",
       "      <td>1003.0</td>\n",
       "      <td>NaN</td>\n",
       "      <td>13.889988</td>\n",
       "    </tr>\n",
       "    <tr>\n",
       "      <th>4</th>\n",
       "      <td>1982-06-03 00:00:00</td>\n",
       "      <td>AL011982</td>\n",
       "      <td>ALBERTO</td>\n",
       "      <td>113</td>\n",
       "      <td>181496.0</td>\n",
       "      <td>4.115552</td>\n",
       "      <td>68</td>\n",
       "      <td>22.6000</td>\n",
       "      <td>-85.8000</td>\n",
       "      <td>15.433320</td>\n",
       "      <td>15.43332</td>\n",
       "      <td>1003</td>\n",
       "      <td>1003.0</td>\n",
       "      <td>NaN</td>\n",
       "      <td>15.433320</td>\n",
       "    </tr>\n",
       "  </tbody>\n",
       "</table>\n",
       "</div>"
      ],
      "text/plain": [
       "              ISO_TIME USA_ATCF_ID     NAME  DIST2LAND  LANDFALL  STORM_SPEED  \\\n",
       "0  1982-06-02 12:00:00    AL011982  ALBERTO         22   40744.0     3.601108   \n",
       "1  1982-06-02 15:00:00    AL011982  ALBERTO         59  109268.0     4.115552   \n",
       "2  1982-06-02 18:00:00    AL011982  ALBERTO         93  172236.0     4.115552   \n",
       "3  1982-06-02 21:00:00    AL011982  ALBERTO        130  209276.0     4.115552   \n",
       "4  1982-06-03 00:00:00    AL011982  ALBERTO        113  181496.0     4.115552   \n",
       "\n",
       "   STORM_DIR  USA_LAT  USA_LON   USA_WIND  WMO_WIND WMO_PRES  USA_PRES  \\\n",
       "0         47  21.7000 -87.1000  10.288880  10.28888     1005    1005.0   \n",
       "1         48  21.9551 -86.8077  11.317768       NaN             1004.0   \n",
       "2         52  22.2000 -86.5000  12.861100  12.86110     1004    1004.0   \n",
       "3         58  22.4224 -86.1650  13.889988       NaN             1003.0   \n",
       "4         68  22.6000 -85.8000  15.433320  15.43332     1003    1003.0   \n",
       "\n",
       "   USA_RMW   USA_WSPD  \n",
       "0      NaN  10.288880  \n",
       "1      NaN  11.317768  \n",
       "2      NaN  12.861100  \n",
       "3      NaN  13.889988  \n",
       "4      NaN  15.433320  "
      ]
     },
     "execution_count": 4,
     "metadata": {},
     "output_type": "execute_result"
    }
   ],
   "source": [
    "df_BT.head()"
   ]
  },
  {
   "cell_type": "markdown",
   "metadata": {},
   "source": [
    "## Attempting to use BT Data as verification"
   ]
  },
  {
   "cell_type": "markdown",
   "metadata": {},
   "source": [
    "### Subsetting the first 30 hours of BT and SHIPS Data"
   ]
  },
  {
   "cell_type": "code",
   "execution_count": 5,
   "metadata": {},
   "outputs": [
    {
     "name": "stderr",
     "output_type": "stream",
     "text": [
      "<ipython-input-5-70ef97ec7642>:9: FutureWarning: Not prepending group keys to the result index of transform-like apply. In the future, the group keys will be included in the index, regardless of whether the applied function returns a like-indexed object.\n",
      "To preserve the previous behavior, use\n",
      "\n",
      "\t>>> .groupby(..., group_keys=False)\n",
      "\n",
      "To adopt the future behavior and silence this warning, use \n",
      "\n",
      "\t>>> .groupby(..., group_keys=True)\n",
      "  df_SHIPS_24 = filtered_df.groupby('Code').apply(lambda x: x[['Original_Times', 'Code', 'Times', 'Latitude', 'Longitude', 'Vmax', 'MSLP', 'Daily_SST_Avg', 'Mid_Level_RH', 'Vshear', 'Vert_Vel']]).reset_index(drop=True)\n"
     ]
    }
   ],
   "source": [
    "# Subsampling the data so that we only have the first 24 hours of each storm\n",
    "df_BT_24 = df_BT.groupby('USA_ATCF_ID').head(30) #This will be our Obseravtion data\n",
    "\n",
    "\n",
    "# Filter the DataFrame for Times from 0 to 24 for each Code\n",
    "filtered_df = df_SHIPS[(df_SHIPS['Times'] >= 0) & (df_SHIPS['Times'] <= 30)]\n",
    "\n",
    "# Group by Code and extract the relevant columns\n",
    "df_SHIPS_24 = filtered_df.groupby('Code').apply(lambda x: x[['Original_Times', 'Code', 'Times', 'Latitude', 'Longitude', 'Vmax', 'MSLP', 'Daily_SST_Avg', 'Mid_Level_RH', 'Vshear', 'Vert_Vel']]).reset_index(drop=True)\n",
    "\n",
    "# df_SHIPS_24\n"
   ]
  },
  {
   "cell_type": "markdown",
   "metadata": {},
   "source": [
    "### Identifying common codes across datasets"
   ]
  },
  {
   "cell_type": "code",
   "execution_count": 6,
   "metadata": {},
   "outputs": [
    {
     "name": "stdout",
     "output_type": "stream",
     "text": [
      "Common IDs: 539\n",
      "IDs only in df_BT_24: 23\n",
      "IDs only in df_SHIPS_24: 71\n"
     ]
    }
   ],
   "source": [
    "# Set 'Code' as an index level in df_SHIPS_24\n",
    "df_SHIPS_24 = df_SHIPS_24.set_index('Code')\n",
    "\n",
    "# Extract the unique IDs from both dataframes\n",
    "bt_ids = df_BT_24['USA_ATCF_ID'].unique()\n",
    "ships_ids = df_SHIPS_24.index.get_level_values('Code').unique()\n",
    "\n",
    "# Find common IDs\n",
    "common_ids = np.intersect1d(bt_ids, ships_ids)\n",
    "\n",
    "# Find IDs only in df_BT_24\n",
    "bt_only_ids = np.setdiff1d(bt_ids, ships_ids)\n",
    "\n",
    "# Find IDs only in df_SHIPS_24\n",
    "ships_only_ids = np.setdiff1d(ships_ids, bt_ids)\n",
    "\n",
    "print(f\"Common IDs: {len(common_ids)}\")\n",
    "print(f\"IDs only in df_BT_24: {len(bt_only_ids)}\")\n",
    "print(f\"IDs only in df_SHIPS_24: {len(ships_only_ids)}\")\n",
    "\n"
   ]
  },
  {
   "cell_type": "markdown",
   "metadata": {},
   "source": [
    "### Keeping Common IDs"
   ]
  },
  {
   "cell_type": "code",
   "execution_count": 7,
   "metadata": {},
   "outputs": [
    {
     "name": "stdout",
     "output_type": "stream",
     "text": [
      "Length of df_BT_24_common: 15287\n",
      "Length of df_SHIPS_24_common: 79440\n"
     ]
    }
   ],
   "source": [
    "# Filter df_BT_24 to keep only common IDs\n",
    "df_BT_24_common = df_BT_24[df_BT_24['USA_ATCF_ID'].isin(common_ids)]\n",
    "\n",
    "# Filter df_SHIPS_24 to keep only common IDs\n",
    "df_SHIPS_24_common = df_SHIPS_24[df_SHIPS_24.index.get_level_values('Code').isin(common_ids)]\n",
    "\n",
    "# Check if the lengths of the filtered dataframes are the same\n",
    "print(f\"Length of df_BT_24_common: {len(df_BT_24_common)}\")\n",
    "print(f\"Length of df_SHIPS_24_common: {len(df_SHIPS_24_common)}\")"
   ]
  },
  {
   "cell_type": "markdown",
   "metadata": {},
   "source": [
    "### Matching Times"
   ]
  },
  {
   "cell_type": "code",
   "execution_count": 8,
   "metadata": {},
   "outputs": [
    {
     "name": "stderr",
     "output_type": "stream",
     "text": [
      "<ipython-input-8-72a982439e21>:10: SettingWithCopyWarning: \n",
      "A value is trying to be set on a copy of a slice from a DataFrame.\n",
      "Try using .loc[row_indexer,col_indexer] = value instead\n",
      "\n",
      "See the caveats in the documentation: https://pandas.pydata.org/pandas-docs/stable/user_guide/indexing.html#returning-a-view-versus-a-copy\n",
      "  df_SHIPS_24_common.loc[:, 'New_Times'] = new_times #Add the new times to the DataFrame\n"
     ]
    }
   ],
   "source": [
    "new_times = [None] * len(df_SHIPS_24_common['Original_Times']) #Empty list to store the new times\n",
    "for i in range(len(df_SHIPS_24_common['Original_Times'])):\n",
    "    \n",
    "    original_time = pd.to_datetime(df_SHIPS_24_common['Original_Times'].iloc[i]) #Time when prediction was made\n",
    "\n",
    "    # print(original_time, original_time + pd.Timedelta(hours=df_SHIPS_24_common['Times'].iloc[i]))\n",
    "    new_times[i] = original_time + pd.Timedelta(hours=df_SHIPS_24_common['Times'].iloc[i]) #Add the time of prediction to the time when prediction was made\n",
    "\n",
    "    \n",
    "df_SHIPS_24_common.loc[:, 'New_Times'] = new_times #Add the new times to the DataFrame"
   ]
  },
  {
   "cell_type": "code",
   "execution_count": 9,
   "metadata": {},
   "outputs": [
    {
     "name": "stderr",
     "output_type": "stream",
     "text": [
      "<ipython-input-9-cfb0873efbe0>:4: SettingWithCopyWarning: \n",
      "A value is trying to be set on a copy of a slice from a DataFrame.\n",
      "Try using .loc[row_indexer,col_indexer] = value instead\n",
      "\n",
      "See the caveats in the documentation: https://pandas.pydata.org/pandas-docs/stable/user_guide/indexing.html#returning-a-view-versus-a-copy\n",
      "  df_BT_24_common['ISO_TIME'] = pd.to_datetime(df_BT_24_common['ISO_TIME'])\n"
     ]
    }
   ],
   "source": [
    "df_SHIPS_24_common\n",
    "\n",
    "# Convert ISO_TIME to datetime format\n",
    "df_BT_24_common['ISO_TIME'] = pd.to_datetime(df_BT_24_common['ISO_TIME'])\n",
    "\n",
    "df_merged = pd.merge(df_SHIPS_24_common.reset_index(), \n",
    "df_BT_24_common[['ISO_TIME', 'USA_ATCF_ID', 'USA_WSPD', 'USA_PRES', \n",
    "                    'WMO_WIND', 'USA_WIND', 'STORM_DIR', 'WMO_PRES']], \n",
    "            left_on=['New_Times', 'Code'], right_on=['ISO_TIME', 'USA_ATCF_ID'], how='inner')"
   ]
  },
  {
   "cell_type": "code",
   "execution_count": 10,
   "metadata": {},
   "outputs": [
    {
     "data": {
      "text/html": [
       "<div>\n",
       "<style scoped>\n",
       "    .dataframe tbody tr th:only-of-type {\n",
       "        vertical-align: middle;\n",
       "    }\n",
       "\n",
       "    .dataframe tbody tr th {\n",
       "        vertical-align: top;\n",
       "    }\n",
       "\n",
       "    .dataframe thead th {\n",
       "        text-align: right;\n",
       "    }\n",
       "</style>\n",
       "<table border=\"1\" class=\"dataframe\">\n",
       "  <thead>\n",
       "    <tr style=\"text-align: right;\">\n",
       "      <th></th>\n",
       "      <th>Code</th>\n",
       "      <th>Latitude</th>\n",
       "      <th>Longitude</th>\n",
       "      <th>Vmax</th>\n",
       "      <th>MSLP</th>\n",
       "      <th>Daily_SST_Avg</th>\n",
       "      <th>Mid_Level_RH</th>\n",
       "      <th>Vshear</th>\n",
       "      <th>Vert_Vel</th>\n",
       "      <th>New_Times</th>\n",
       "      <th>USA_ATCF_ID</th>\n",
       "      <th>USA_WSPD</th>\n",
       "      <th>USA_PRES</th>\n",
       "      <th>WMO_WIND</th>\n",
       "      <th>USA_WIND</th>\n",
       "      <th>STORM_DIR</th>\n",
       "      <th>WMO_PRES</th>\n",
       "    </tr>\n",
       "  </thead>\n",
       "  <tbody>\n",
       "    <tr>\n",
       "      <th>0</th>\n",
       "      <td>AL011982</td>\n",
       "      <td>21.7</td>\n",
       "      <td>87.1</td>\n",
       "      <td>10.28888</td>\n",
       "      <td>1005.0</td>\n",
       "      <td>27.1</td>\n",
       "      <td>57.0</td>\n",
       "      <td>15.227542</td>\n",
       "      <td>6.631183</td>\n",
       "      <td>1982-06-02 12:00:00</td>\n",
       "      <td>AL011982</td>\n",
       "      <td>10.28888</td>\n",
       "      <td>1005.0</td>\n",
       "      <td>10.28888</td>\n",
       "      <td>10.28888</td>\n",
       "      <td>47</td>\n",
       "      <td>1005</td>\n",
       "    </tr>\n",
       "    <tr>\n",
       "      <th>1</th>\n",
       "      <td>AL011982</td>\n",
       "      <td>22.2</td>\n",
       "      <td>86.5</td>\n",
       "      <td>12.86110</td>\n",
       "      <td>1004.0</td>\n",
       "      <td>27.8</td>\n",
       "      <td>53.0</td>\n",
       "      <td>15.536209</td>\n",
       "      <td>3.966363</td>\n",
       "      <td>1982-06-02 18:00:00</td>\n",
       "      <td>AL011982</td>\n",
       "      <td>12.86110</td>\n",
       "      <td>1004.0</td>\n",
       "      <td>12.86110</td>\n",
       "      <td>12.86110</td>\n",
       "      <td>52</td>\n",
       "      <td>1004</td>\n",
       "    </tr>\n",
       "    <tr>\n",
       "      <th>2</th>\n",
       "      <td>AL011982</td>\n",
       "      <td>22.2</td>\n",
       "      <td>86.5</td>\n",
       "      <td>12.86110</td>\n",
       "      <td>1004.0</td>\n",
       "      <td>27.8</td>\n",
       "      <td>53.0</td>\n",
       "      <td>15.536209</td>\n",
       "      <td>3.966363</td>\n",
       "      <td>1982-06-02 18:00:00</td>\n",
       "      <td>AL011982</td>\n",
       "      <td>12.86110</td>\n",
       "      <td>1004.0</td>\n",
       "      <td>12.86110</td>\n",
       "      <td>12.86110</td>\n",
       "      <td>52</td>\n",
       "      <td>1004</td>\n",
       "    </tr>\n",
       "    <tr>\n",
       "      <th>3</th>\n",
       "      <td>AL011982</td>\n",
       "      <td>22.6</td>\n",
       "      <td>85.8</td>\n",
       "      <td>15.43332</td>\n",
       "      <td>1003.0</td>\n",
       "      <td>27.9</td>\n",
       "      <td>56.0</td>\n",
       "      <td>15.330431</td>\n",
       "      <td>4.403641</td>\n",
       "      <td>1982-06-03 00:00:00</td>\n",
       "      <td>AL011982</td>\n",
       "      <td>15.43332</td>\n",
       "      <td>1003.0</td>\n",
       "      <td>15.43332</td>\n",
       "      <td>15.43332</td>\n",
       "      <td>68</td>\n",
       "      <td>1003</td>\n",
       "    </tr>\n",
       "    <tr>\n",
       "      <th>4</th>\n",
       "      <td>AL011982</td>\n",
       "      <td>22.6</td>\n",
       "      <td>85.8</td>\n",
       "      <td>15.43332</td>\n",
       "      <td>1003.0</td>\n",
       "      <td>27.9</td>\n",
       "      <td>56.0</td>\n",
       "      <td>15.330431</td>\n",
       "      <td>4.403641</td>\n",
       "      <td>1982-06-03 00:00:00</td>\n",
       "      <td>AL011982</td>\n",
       "      <td>15.43332</td>\n",
       "      <td>1003.0</td>\n",
       "      <td>15.43332</td>\n",
       "      <td>15.43332</td>\n",
       "      <td>68</td>\n",
       "      <td>1003</td>\n",
       "    </tr>\n",
       "    <tr>\n",
       "      <th>...</th>\n",
       "      <td>...</td>\n",
       "      <td>...</td>\n",
       "      <td>...</td>\n",
       "      <td>...</td>\n",
       "      <td>...</td>\n",
       "      <td>...</td>\n",
       "      <td>...</td>\n",
       "      <td>...</td>\n",
       "      <td>...</td>\n",
       "      <td>...</td>\n",
       "      <td>...</td>\n",
       "      <td>...</td>\n",
       "      <td>...</td>\n",
       "      <td>...</td>\n",
       "      <td>...</td>\n",
       "      <td>...</td>\n",
       "      <td>...</td>\n",
       "    </tr>\n",
       "    <tr>\n",
       "      <th>32379</th>\n",
       "      <td>AL172022</td>\n",
       "      <td>26.5</td>\n",
       "      <td>77.3</td>\n",
       "      <td>30.86664</td>\n",
       "      <td>985.0</td>\n",
       "      <td>27.6</td>\n",
       "      <td>49.0</td>\n",
       "      <td>18.571428</td>\n",
       "      <td>5.730906</td>\n",
       "      <td>2022-11-09 18:00:00</td>\n",
       "      <td>AL172022</td>\n",
       "      <td>30.86664</td>\n",
       "      <td>985.0</td>\n",
       "      <td>30.86664</td>\n",
       "      <td>30.86664</td>\n",
       "      <td>270</td>\n",
       "      <td>985</td>\n",
       "    </tr>\n",
       "    <tr>\n",
       "      <th>32380</th>\n",
       "      <td>AL172022</td>\n",
       "      <td>26.5</td>\n",
       "      <td>77.3</td>\n",
       "      <td>30.86664</td>\n",
       "      <td>985.0</td>\n",
       "      <td>27.5</td>\n",
       "      <td>49.0</td>\n",
       "      <td>18.571428</td>\n",
       "      <td>5.730906</td>\n",
       "      <td>2022-11-09 18:00:00</td>\n",
       "      <td>AL172022</td>\n",
       "      <td>30.86664</td>\n",
       "      <td>985.0</td>\n",
       "      <td>30.86664</td>\n",
       "      <td>30.86664</td>\n",
       "      <td>270</td>\n",
       "      <td>985</td>\n",
       "    </tr>\n",
       "    <tr>\n",
       "      <th>32381</th>\n",
       "      <td>AL172022</td>\n",
       "      <td>26.5</td>\n",
       "      <td>77.3</td>\n",
       "      <td>30.86664</td>\n",
       "      <td>985.0</td>\n",
       "      <td>27.5</td>\n",
       "      <td>49.0</td>\n",
       "      <td>18.571428</td>\n",
       "      <td>5.730906</td>\n",
       "      <td>2022-11-09 18:00:00</td>\n",
       "      <td>AL172022</td>\n",
       "      <td>30.86664</td>\n",
       "      <td>985.0</td>\n",
       "      <td>30.86664</td>\n",
       "      <td>30.86664</td>\n",
       "      <td>270</td>\n",
       "      <td>985</td>\n",
       "    </tr>\n",
       "    <tr>\n",
       "      <th>32382</th>\n",
       "      <td>AL172022</td>\n",
       "      <td>26.5</td>\n",
       "      <td>77.3</td>\n",
       "      <td>30.86664</td>\n",
       "      <td>985.0</td>\n",
       "      <td>27.5</td>\n",
       "      <td>49.0</td>\n",
       "      <td>18.571428</td>\n",
       "      <td>5.730906</td>\n",
       "      <td>2022-11-09 18:00:00</td>\n",
       "      <td>AL172022</td>\n",
       "      <td>30.86664</td>\n",
       "      <td>985.0</td>\n",
       "      <td>30.86664</td>\n",
       "      <td>30.86664</td>\n",
       "      <td>270</td>\n",
       "      <td>985</td>\n",
       "    </tr>\n",
       "    <tr>\n",
       "      <th>32383</th>\n",
       "      <td>AL172022</td>\n",
       "      <td>26.5</td>\n",
       "      <td>77.3</td>\n",
       "      <td>30.86664</td>\n",
       "      <td>985.0</td>\n",
       "      <td>27.5</td>\n",
       "      <td>49.0</td>\n",
       "      <td>18.571428</td>\n",
       "      <td>5.730906</td>\n",
       "      <td>2022-11-09 18:00:00</td>\n",
       "      <td>AL172022</td>\n",
       "      <td>30.86664</td>\n",
       "      <td>985.0</td>\n",
       "      <td>30.86664</td>\n",
       "      <td>30.86664</td>\n",
       "      <td>270</td>\n",
       "      <td>985</td>\n",
       "    </tr>\n",
       "  </tbody>\n",
       "</table>\n",
       "<p>31316 rows × 17 columns</p>\n",
       "</div>"
      ],
      "text/plain": [
       "           Code  Latitude  Longitude      Vmax    MSLP  Daily_SST_Avg  \\\n",
       "0      AL011982      21.7       87.1  10.28888  1005.0           27.1   \n",
       "1      AL011982      22.2       86.5  12.86110  1004.0           27.8   \n",
       "2      AL011982      22.2       86.5  12.86110  1004.0           27.8   \n",
       "3      AL011982      22.6       85.8  15.43332  1003.0           27.9   \n",
       "4      AL011982      22.6       85.8  15.43332  1003.0           27.9   \n",
       "...         ...       ...        ...       ...     ...            ...   \n",
       "32379  AL172022      26.5       77.3  30.86664   985.0           27.6   \n",
       "32380  AL172022      26.5       77.3  30.86664   985.0           27.5   \n",
       "32381  AL172022      26.5       77.3  30.86664   985.0           27.5   \n",
       "32382  AL172022      26.5       77.3  30.86664   985.0           27.5   \n",
       "32383  AL172022      26.5       77.3  30.86664   985.0           27.5   \n",
       "\n",
       "       Mid_Level_RH     Vshear  Vert_Vel           New_Times USA_ATCF_ID  \\\n",
       "0              57.0  15.227542  6.631183 1982-06-02 12:00:00    AL011982   \n",
       "1              53.0  15.536209  3.966363 1982-06-02 18:00:00    AL011982   \n",
       "2              53.0  15.536209  3.966363 1982-06-02 18:00:00    AL011982   \n",
       "3              56.0  15.330431  4.403641 1982-06-03 00:00:00    AL011982   \n",
       "4              56.0  15.330431  4.403641 1982-06-03 00:00:00    AL011982   \n",
       "...             ...        ...       ...                 ...         ...   \n",
       "32379          49.0  18.571428  5.730906 2022-11-09 18:00:00    AL172022   \n",
       "32380          49.0  18.571428  5.730906 2022-11-09 18:00:00    AL172022   \n",
       "32381          49.0  18.571428  5.730906 2022-11-09 18:00:00    AL172022   \n",
       "32382          49.0  18.571428  5.730906 2022-11-09 18:00:00    AL172022   \n",
       "32383          49.0  18.571428  5.730906 2022-11-09 18:00:00    AL172022   \n",
       "\n",
       "       USA_WSPD  USA_PRES  WMO_WIND  USA_WIND  STORM_DIR WMO_PRES  \n",
       "0      10.28888    1005.0  10.28888  10.28888         47     1005  \n",
       "1      12.86110    1004.0  12.86110  12.86110         52     1004  \n",
       "2      12.86110    1004.0  12.86110  12.86110         52     1004  \n",
       "3      15.43332    1003.0  15.43332  15.43332         68     1003  \n",
       "4      15.43332    1003.0  15.43332  15.43332         68     1003  \n",
       "...         ...       ...       ...       ...        ...      ...  \n",
       "32379  30.86664     985.0  30.86664  30.86664        270      985  \n",
       "32380  30.86664     985.0  30.86664  30.86664        270      985  \n",
       "32381  30.86664     985.0  30.86664  30.86664        270      985  \n",
       "32382  30.86664     985.0  30.86664  30.86664        270      985  \n",
       "32383  30.86664     985.0  30.86664  30.86664        270      985  \n",
       "\n",
       "[31316 rows x 17 columns]"
      ]
     },
     "execution_count": 10,
     "metadata": {},
     "output_type": "execute_result"
    }
   ],
   "source": [
    "df_merged_clean = df_merged.dropna()\n",
    "df_merged_clean = df_merged_clean.drop(columns=['Times', 'Original_Times', 'ISO_TIME'])\n",
    "df_merged_clean"
   ]
  },
  {
   "cell_type": "markdown",
   "metadata": {},
   "source": [
    "## Cross Validation "
   ]
  },
  {
   "cell_type": "code",
   "execution_count": 25,
   "metadata": {},
   "outputs": [],
   "source": [
    "t = np.asarray(df_merged_clean['New_Times'])\n",
    "E = np.asarray(df_merged_clean['Vmax'])\n",
    "\n"
   ]
  },
  {
   "cell_type": "code",
   "execution_count": 26,
   "metadata": {},
   "outputs": [],
   "source": [
    "from sklearn.datasets import load_diabetes\n",
    "from sklearn.model_selection import train_test_split\n",
    "from sklearn.ensemble import ExtraTreesRegressor\n",
    "from sklearn.model_selection import ShuffleSplit\n",
    "\n",
    "n=1 # we do this selection once\n",
    "v_size = 0.3 # 30% of the data will be randomly selected to be the validation set.\n",
    "\n",
    "rs = ShuffleSplit(n_splits=n, test_size=.3, random_state=0)\n",
    "for train_index, val_index in rs.split(E):\n",
    "    E_train, E_val = E[train_index], E[val_index]\n",
    "    t_train, t_val = t[train_index], t[val_index]"
   ]
  },
  {
   "cell_type": "code",
   "execution_count": 27,
   "metadata": {},
   "outputs": [
    {
     "data": {
      "image/png": "[encoded data removed]",
      "text/plain": [
       "<Figure size 720x288 with 1 Axes>"
      ]
     },
     "metadata": {
      "needs_background": "light"
     },
     "output_type": "display_data"
    }
   ],
   "source": [
    "gridsize = (1, 1)\n",
    "fig = plt.figure(figsize=(10,4))\n",
    "\n",
    "ax1 = plt.subplot2grid(gridsize, (0,0), colspan=1, rowspan=1)\n",
    "\n",
    "ax1.scatter(t_train,E_train,marker=\"o\");plt.grid(True);plt.ylabel('Peak Wind Speed (m/s)')\n",
    "ax1.scatter(t_val,E_val,marker=\"o\",s=6,c=\"red\")\n",
    "ax1.set_xlabel('Time (years)')\n",
    "ax1.set_title('Max Wind Speed vs Time')\n",
    "ax1.legend(['training set','validation set'])\n",
    "plt.show()"
   ]
  },
  {
   "cell_type": "code",
   "execution_count": null,
   "metadata": {},
   "outputs": [
    {
     "name": "stdout",
     "output_type": "stream",
     "text": [
      "Training set: Coefficient / Peak Winds (m/s):  0.8743177718125299\n",
      "MSE (mean square error) on training set (m/s): 12.26\n",
      "Coefficient of determination on training set: 0.86\n",
      "MSE on validation set (mm): 16.06 and coefficient of determiniation on 0.80\n"
     ]
    },
    {
     "data": {
      "text/plain": [
       "Text(0.5, 1.0, 'Random selection for data split')"
      ]
     },
     "execution_count": 32,
     "metadata": {},
     "output_type": "execute_result"
    },
    {
     "data": {
      "image/png": "[encoded data removed]",
      "text/plain": [
       "<Figure size 720x288 with 1 Axes>"
      ]
     },
     "metadata": {
      "needs_background": "light"
     },
     "output_type": "display_data"
    }
   ],
   "source": [
    "from sklearn.ensemble import ExtraTreesRegressor\n",
    "from sklearn.metrics import mean_squared_error, r2_score\n",
    "\n",
    "regr = ExtraTreesRegressor()\n",
    "\n",
    "t_train = t_train.reshape(len(t_train), 1)\n",
    "t_val = t_val.reshape(len(t_val), 1)\n",
    "\n",
    "regr.fit(t_train, E_train)\n",
    "# We will first predict the fit:\n",
    "Epred=regr.predict(t_train) \n",
    "Epred_val=regr.predict(t_val)\n",
    "\n",
    "# The coefficients\n",
    "print('Training set: Coefficient / Peak Winds (m/s): ', regr.score(t_train, E_train))\n",
    "\n",
    "print('MSE (mean square error) on training set (m/s): %.2f'\n",
    "      % mean_squared_error(Epred, E_train))\n",
    "# The coefficient of determination: 1 is the perfect prediction\n",
    "print('Coefficient of determination on training set: %.2f'\n",
    "      % r2_score(Epred, E_train))\n",
    "\n",
    "print('MSE on validation set (mm): %.2f and coefficient of determiniation on %.2f' %(mean_squared_error(Epred_val, E_val), r2_score(Epred_val, E_val)))\n",
    "\n",
    "gridsize = (1, 1)\n",
    "fig = plt.figure(figsize=(10,4))\n",
    "\n",
    "ax1 = plt.subplot2grid(gridsize, (0,0), colspan=1, rowspan=1)\n",
    "\n",
    "ax1.scatter(t,E)\n",
    "ax1.scatter(t_train, Epred, color=\"red\", s=10)\n",
    "# ax1.scatter(t_val, Epred_val, color=\"green\", s=10)\n",
    "ax1.grid(True)\n",
    "ax1.set_ylabel('Wind Speed (m/s)')\n",
    "\n",
    "\n",
    "plt.legend(['data','fit on training','fit on validation'])\n",
    "plt.title('Random selection for data split')"
   ]
  },
  {
   "cell_type": "code",
   "execution_count": 46,
   "metadata": {},
   "outputs": [
    {
     "name": "stdout",
     "output_type": "stream",
     "text": [
      "[10.28888 15.43332 15.43332 ... 30.86664 30.86664 30.86664]\n"
     ]
    }
   ],
   "source": [
    "# Find the indices of t that match t_val\n",
    "matching_indices = np.isin(t, t_val)\n",
    "\n",
    "# Extract the corresponding E values\n",
    "E_matching = E[matching_indices]\n",
    "\n",
    "print(E_matching)"
   ]
  },
  {
   "cell_type": "code",
   "execution_count": 47,
   "metadata": {},
   "outputs": [
    {
     "data": {
      "text/plain": [
       "(31316,)"
      ]
     },
     "execution_count": 47,
     "metadata": {},
     "output_type": "execute_result"
    }
   ],
   "source": [
    "matching_indices.shape"
   ]
  },
  {
   "cell_type": "code",
   "execution_count": 49,
   "metadata": {},
   "outputs": [
    {
     "data": {
      "text/plain": [
       "(27210,)"
      ]
     },
     "execution_count": 49,
     "metadata": {},
     "output_type": "execute_result"
    }
   ],
   "source": [
    "E_matching.shape"
   ]
  },
  {
   "cell_type": "code",
   "execution_count": 48,
   "metadata": {},
   "outputs": [
    {
     "data": {
      "text/plain": [
       "(9395,)"
      ]
     },
     "execution_count": 48,
     "metadata": {},
     "output_type": "execute_result"
    }
   ],
   "source": [
    "E_val.shape"
   ]
  },
  {
   "cell_type": "code",
   "execution_count": 50,
   "metadata": {},
   "outputs": [
    {
     "data": {
      "text/plain": [
       "(21921,)"
      ]
     },
     "execution_count": 50,
     "metadata": {},
     "output_type": "execute_result"
    }
   ],
   "source": [
    "E_train.shape"
   ]
  },
  {
   "cell_type": "markdown",
   "metadata": {},
   "source": [
    "## K-fold Cross Validation"
   ]
  },
  {
   "cell_type": "code",
   "execution_count": 15,
   "metadata": {},
   "outputs": [
    {
     "name": "stdout",
     "output_type": "stream",
     "text": [
      "mean of the velocity estimates 1.00 and the standard deviation 0.00\n",
      "mean MSE for training set : 12.75 and the validation set: 134.80\n"
     ]
    }
   ],
   "source": [
    "from sklearn.model_selection import KFold\n",
    "\n",
    "# let's try on 10-folds, 10 adjacent split of the data.\n",
    "k=10\n",
    "kf = KFold(n_splits=k)\n",
    "\n",
    "vel = np.zeros(k) # initalize a vector to store the regression values\n",
    "mse_train = np.zeros(k)\n",
    "mse_val = np.zeros(k)\n",
    "r2s = np.zeros(k)\n",
    "i=0\n",
    "for train_index, val_index in kf.split(E):    \n",
    "    E_train, E_val = E[train_index], E[val_index]\n",
    "    t_train, t_val = t[train_index].reshape(-1, 1), t[val_index].reshape(-1, 1)\n",
    "    # now fit the data on the training set.\n",
    "    regr = ExtraTreesRegressor()\n",
    "    # Fit on training data:\n",
    "    regr.fit(t_train,E_train)\n",
    "    # We will first predict the fit:\n",
    "    Epred_train=regr.predict(t_train) \n",
    "    Epred_val=regr.predict(t_val) \n",
    "\n",
    "    # The coefficients\n",
    "    vel[i]= regr.feature_importances_[0]\n",
    "    mse_val[i]= mean_squared_error(E_val, Epred_val)\n",
    "    mse_train[i]= mean_squared_error(E_train, Epred_train)\n",
    "    r2s[i]=r2_score(E_train, Epred_train)\n",
    "    i+=1\n",
    "\n",
    "# the data shows clearly a trend, so the predictions of the trends are close to each other:\n",
    "print(\"mean of the velocity estimates %4.2f and the standard deviation %4.2f\"%(np.mean(vel),np.std(vel)))\n",
    "# the test error is the average of the mean-square-errors\n",
    "print(\"mean MSE for training set : %4.2f and the validation set: %4.2f\"%(np.mean(mse_train),np.mean(mse_val)))\n"
   ]
  },
  {
   "cell_type": "code",
   "execution_count": 16,
   "metadata": {},
   "outputs": [],
   "source": [
    "data = np.array(df_merged_clean.drop(columns=['Vmax', 'New_Times', 'Code', 'USA_ATCF_ID', 'USA_WIND', 'WMO_WIND'])).astype(float)\n",
    "data = data[~np.isnan(data).any(axis=1)]\n",
    "y = np.asarray(df_merged_clean['Vmax'])\n",
    "y = y[~np.isnan(y)]"
   ]
  },
  {
   "cell_type": "code",
   "execution_count": 17,
   "metadata": {},
   "outputs": [
    {
     "name": "stdout",
     "output_type": "stream",
     "text": [
      "There are 31316 data samples\n"
     ]
    }
   ],
   "source": [
    "from sklearn.preprocessing import MinMaxScaler\n",
    "from sklearn.model_selection import train_test_split\n",
    "scaler = MinMaxScaler()\n",
    "scaler.fit_transform(data)# fit the model for data normalization\n",
    "newdata = scaler.transform(data) # transform the data. watch that data was converted to a numpy array\n",
    "\n",
    "# Split data into 50% train and 50% test subsets\n",
    "print(f\"There are {data.shape[0]} data samples\")\n",
    "X_train, X_test, y_train, y_test = train_test_split(\n",
    "    data, y, test_size=0.2, shuffle=False)"
   ]
  },
  {
   "cell_type": "code",
   "execution_count": 18,
   "metadata": {},
   "outputs": [
    {
     "data": {
      "text/plain": [
       "array([[  21.7,   87.1, 1005. , ..., 1005. ,   47. , 1005. ],\n",
       "       [  22.2,   86.5, 1004. , ..., 1004. ,   52. , 1004. ],\n",
       "       [  22.2,   86.5, 1004. , ..., 1004. ,   52. , 1004. ],\n",
       "       ...,\n",
       "       [  22.4,   87.9, 1005. , ..., 1005. ,    6. , 1005. ],\n",
       "       [  22.4,   87.9, 1005. , ..., 1005. ,    6. , 1005. ],\n",
       "       [  23.2,   87.8, 1003. , ..., 1003. ,    7. , 1003. ]])"
      ]
     },
     "execution_count": 18,
     "metadata": {},
     "output_type": "execute_result"
    }
   ],
   "source": [
    "X_train"
   ]
  },
  {
   "cell_type": "markdown",
   "metadata": {},
   "source": [
    "### Pasting"
   ]
  },
  {
   "cell_type": "code",
   "execution_count": 19,
   "metadata": {},
   "outputs": [
    {
     "name": "stdout",
     "output_type": "stream",
     "text": [
      "mean accuracy 0.9987932381471094\n"
     ]
    }
   ],
   "source": [
    "from sklearn.ensemble import BaggingRegressor\n",
    "from sklearn.ensemble import ExtraTreesRegressor\n",
    "from sklearn.model_selection import cross_val_score\n",
    "\n",
    "bag_reg_pass = BaggingRegressor(\n",
    "    base_estimator=ExtraTreesRegressor(), n_estimators=100,  # n_estimators is the number of models to train\n",
    "    max_samples=1000, bootstrap=False, # bootstrap is for bagging vs pasting\n",
    "    n_jobs=-1, # number of CPU cores independently used for training and prediction. Use -1 for all available cores\n",
    "    )\n",
    "scores = cross_val_score(bag_reg_pass, data, y, cv=5)\n",
    "print('mean accuracy', scores.mean())"
   ]
  },
  {
   "cell_type": "markdown",
   "metadata": {},
   "source": [
    "### Bagging"
   ]
  },
  {
   "cell_type": "code",
   "execution_count": 20,
   "metadata": {},
   "outputs": [
    {
     "name": "stdout",
     "output_type": "stream",
     "text": [
      "mean accuracy 0.9987141514654259\n"
     ]
    }
   ],
   "source": [
    "bag_reg_boost = BaggingRegressor(\n",
    "    base_estimator=ExtraTreesRegressor(), n_estimators=100,  # n_estimators is the number of models to train\n",
    "    max_samples=1000, bootstrap=True, # bootstrap is for bagging vs pasting\n",
    "    n_jobs=-1, # number of CPU cores independently used for training and prediction. Use -1 for all available cores\n",
    "    )\n",
    "bag_reg_boost.fit(X_train, y_train)\n",
    "scores = cross_val_score(bag_reg_boost, data, y, cv=5)\n",
    "print('mean accuracy', scores.mean())"
   ]
  },
  {
   "cell_type": "code",
   "execution_count": 21,
   "metadata": {},
   "outputs": [],
   "source": [
    "from sklearn.model_selection import cross_val_predict\n",
    "\n",
    "bag_reg = BaggingRegressor(\n",
    "    base_estimator = ExtraTreesRegressor(),n_estimators=100,  # n_estimator is the number of models to train\n",
    "    max_samples=100,bootstrap=True, # bootstrap is for bagging vs pasting\n",
    "    n_jobs=-1,oob_score=True,#number of CPU cores independently used for training and prediction. Use -1 for all available score\n",
    "    )\n",
    "\n",
    "bag_reg_pass.fit(X_train, y_train)\n",
    "scores=cross_val_predict(bag_reg,X_test,y_test,cv=5) # the size of max_samples\n"
   ]
  },
  {
   "cell_type": "markdown",
   "metadata": {},
   "source": [
    "## Visualize Model Performance"
   ]
  },
  {
   "cell_type": "code",
   "execution_count": 22,
   "metadata": {},
   "outputs": [
    {
     "data": {
      "image/png": "[encoded data removed]",
      "text/plain": [
       "<Figure size 1440x432 with 2 Axes>"
      ]
     },
     "metadata": {
      "needs_background": "light"
     },
     "output_type": "display_data"
    }
   ],
   "source": [
    "\n",
    "from sklearn.model_selection import learning_curve\n",
    "\n",
    "# Generate learning curves for bag_reg_pass\n",
    "train_sizes, train_scores, val_scores = learning_curve(\n",
    "    bag_reg_pass, X_train, y_train, cv=5, scoring='r2', n_jobs=-1, \n",
    "     train_sizes=np.linspace(0.1, 1.0, 10)\n",
    ")\n",
    "\n",
    "# Calculate mean and standard deviation for training and validation scores\n",
    "train_mean = np.nanmean(train_scores, axis=1)\n",
    "train_std = np.std(train_scores, axis=1)\n",
    "val_mean = np.mean(val_scores, axis=1)\n",
    "val_std = np.std(val_scores, axis=1)\n",
    "\n",
    "# Generate learning curves for bag_reg_boost\n",
    "train_sizes_boost, train_scores_boost, val_scores_boost = learning_curve(\n",
    "    bag_reg_boost, X_train, y_train, cv=5, scoring='r2', n_jobs=-1, \n",
    "     train_sizes=np.linspace(0.1, 1.0, 10)\n",
    ")\n",
    "\n",
    "# Calculate mean and standard deviation for training and validation scores\n",
    "train_mean_boost = np.nanmean(train_scores_boost, axis=1)\n",
    "train_std_boost = np.std(train_scores_boost, axis=1)\n",
    "val_mean_boost = np.mean(val_scores_boost, axis=1)\n",
    "val_std_boost = np.std(val_scores_boost, axis=1)\n",
    "\n",
    "# Plot learning curves\n",
    "fig, axes = plt.subplots(1, 2, figsize=(20, 6))\n",
    "\n",
    "# Plot for bag_reg_pass\n",
    "axes[0].plot(train_sizes, train_mean, label=\"Training Accuracy\", color=\"blue\", marker='o')\n",
    "axes[0].plot(train_sizes, val_mean, label=\"Validation Accuracy\", color=\"red\", marker='o')\n",
    "axes[0].fill_between(train_sizes, train_mean - train_std, train_mean + train_std, color=\"blue\", alpha=0.1)\n",
    "axes[0].fill_between(train_sizes, val_mean - val_std, val_mean + val_std, color=\"red\", alpha=0.1)\n",
    "axes[0].set_xlabel(\"Training Set Size\")\n",
    "axes[0].set_ylabel(\"Accuracy\")\n",
    "axes[0].set_title(\"Learning Curve for Extra Tree Regressor (Pasting)\")\n",
    "axes[0].legend(loc=\"best\")\n",
    "axes[0].grid()\n",
    "\n",
    "# Plot for bag_reg_boost\n",
    "axes[1].plot(train_sizes_boost, train_mean_boost, label=\"Training Accuracy\", color=\"blue\", marker='o')\n",
    "axes[1].plot(train_sizes_boost, val_mean_boost, label=\"Validation Accuracy\", color=\"red\", marker='o')\n",
    "axes[1].fill_between(train_sizes_boost, train_mean_boost - train_std_boost, train_mean_boost + train_std_boost, color=\"blue\", alpha=0.1)\n",
    "axes[1].fill_between(train_sizes_boost, val_mean_boost - val_std_boost, val_mean_boost + val_std_boost, color=\"red\", alpha=0.1)\n",
    "axes[1].set_xlabel(\"Training Set Size\")\n",
    "axes[1].set_ylabel(\"Accuracy\")\n",
    "axes[1].set_title(\"Learning Curve for Bagging Extra Tree Regressor (Bagging)\")\n",
    "axes[1].legend(loc=\"best\")\n",
    "axes[1].grid()\n",
    "\n",
    "plt.show()"
   ]
  },
  {
   "cell_type": "markdown",
   "metadata": {},
   "source": [
    "It appears that in this model boostrapping and pasting does not make asignificant difference. Both models show good training  and validation accuarcy via the $R^2$ value. There is some separation between the curves but this separation is very small  which indicates good generalization."
   ]
  },
  {
   "cell_type": "code",
   "execution_count": 23,
   "metadata": {},
   "outputs": [
    {
     "ename": "KeyboardInterrupt",
     "evalue": "",
     "output_type": "error",
     "traceback": [
      "\u001b[0;31m---------------------------------------------------------------------------\u001b[0m",
      "\u001b[0;31mKeyboardInterrupt\u001b[0m                         Traceback (most recent call last)",
      "Cell \u001b[0;32mIn[23], line 22\u001b[0m\n\u001b[1;32m     20\u001b[0m \u001b[38;5;66;03m# Calculate R^2 score for training and test sets\u001b[39;00m\n\u001b[1;32m     21\u001b[0m train_accuracy \u001b[38;5;241m=\u001b[39m r2_score(y_train, bag_reg_pass\u001b[38;5;241m.\u001b[39mpredict(X_train))\n\u001b[0;32m---> 22\u001b[0m test_accuracy \u001b[38;5;241m=\u001b[39m r2_score(y_test, \u001b[43mbag_reg_pass\u001b[49m\u001b[38;5;241;43m.\u001b[39;49m\u001b[43mpredict\u001b[49m\u001b[43m(\u001b[49m\u001b[43mX_test\u001b[49m\u001b[43m)\u001b[49m)\n\u001b[1;32m     24\u001b[0m \u001b[38;5;66;03m# Store the accuracies\u001b[39;00m\n\u001b[1;32m     25\u001b[0m train_accuracies\u001b[38;5;241m.\u001b[39mappend(train_accuracy)\n",
      "File \u001b[0;32m/home/disk/orca/adaley17/anaconda3/envs/geo_env/lib/python3.8/site-packages/sklearn/ensemble/_bagging.py:1170\u001b[0m, in \u001b[0;36mBaggingRegressor.predict\u001b[0;34m(self, X)\u001b[0m\n\u001b[1;32m   1165\u001b[0m \u001b[38;5;66;03m# Parallel loop\u001b[39;00m\n\u001b[1;32m   1166\u001b[0m n_jobs, n_estimators, starts \u001b[38;5;241m=\u001b[39m _partition_estimators(\n\u001b[1;32m   1167\u001b[0m     \u001b[38;5;28mself\u001b[39m\u001b[38;5;241m.\u001b[39mn_estimators, \u001b[38;5;28mself\u001b[39m\u001b[38;5;241m.\u001b[39mn_jobs\n\u001b[1;32m   1168\u001b[0m )\n\u001b[0;32m-> 1170\u001b[0m all_y_hat \u001b[38;5;241m=\u001b[39m \u001b[43mParallel\u001b[49m\u001b[43m(\u001b[49m\u001b[43mn_jobs\u001b[49m\u001b[38;5;241;43m=\u001b[39;49m\u001b[43mn_jobs\u001b[49m\u001b[43m,\u001b[49m\u001b[43m \u001b[49m\u001b[43mverbose\u001b[49m\u001b[38;5;241;43m=\u001b[39;49m\u001b[38;5;28;43mself\u001b[39;49m\u001b[38;5;241;43m.\u001b[39;49m\u001b[43mverbose\u001b[49m\u001b[43m)\u001b[49m\u001b[43m(\u001b[49m\n\u001b[1;32m   1171\u001b[0m \u001b[43m    \u001b[49m\u001b[43mdelayed\u001b[49m\u001b[43m(\u001b[49m\u001b[43m_parallel_predict_regression\u001b[49m\u001b[43m)\u001b[49m\u001b[43m(\u001b[49m\n\u001b[1;32m   1172\u001b[0m \u001b[43m        \u001b[49m\u001b[38;5;28;43mself\u001b[39;49m\u001b[38;5;241;43m.\u001b[39;49m\u001b[43mestimators_\u001b[49m\u001b[43m[\u001b[49m\u001b[43mstarts\u001b[49m\u001b[43m[\u001b[49m\u001b[43mi\u001b[49m\u001b[43m]\u001b[49m\u001b[43m \u001b[49m\u001b[43m:\u001b[49m\u001b[43m \u001b[49m\u001b[43mstarts\u001b[49m\u001b[43m[\u001b[49m\u001b[43mi\u001b[49m\u001b[43m \u001b[49m\u001b[38;5;241;43m+\u001b[39;49m\u001b[43m \u001b[49m\u001b[38;5;241;43m1\u001b[39;49m\u001b[43m]\u001b[49m\u001b[43m]\u001b[49m\u001b[43m,\u001b[49m\n\u001b[1;32m   1173\u001b[0m \u001b[43m        \u001b[49m\u001b[38;5;28;43mself\u001b[39;49m\u001b[38;5;241;43m.\u001b[39;49m\u001b[43mestimators_features_\u001b[49m\u001b[43m[\u001b[49m\u001b[43mstarts\u001b[49m\u001b[43m[\u001b[49m\u001b[43mi\u001b[49m\u001b[43m]\u001b[49m\u001b[43m \u001b[49m\u001b[43m:\u001b[49m\u001b[43m \u001b[49m\u001b[43mstarts\u001b[49m\u001b[43m[\u001b[49m\u001b[43mi\u001b[49m\u001b[43m \u001b[49m\u001b[38;5;241;43m+\u001b[39;49m\u001b[43m \u001b[49m\u001b[38;5;241;43m1\u001b[39;49m\u001b[43m]\u001b[49m\u001b[43m]\u001b[49m\u001b[43m,\u001b[49m\n\u001b[1;32m   1174\u001b[0m \u001b[43m        \u001b[49m\u001b[43mX\u001b[49m\u001b[43m,\u001b[49m\n\u001b[1;32m   1175\u001b[0m \u001b[43m    \u001b[49m\u001b[43m)\u001b[49m\n\u001b[1;32m   1176\u001b[0m \u001b[43m    \u001b[49m\u001b[38;5;28;43;01mfor\u001b[39;49;00m\u001b[43m \u001b[49m\u001b[43mi\u001b[49m\u001b[43m \u001b[49m\u001b[38;5;129;43;01min\u001b[39;49;00m\u001b[43m \u001b[49m\u001b[38;5;28;43mrange\u001b[39;49m\u001b[43m(\u001b[49m\u001b[43mn_jobs\u001b[49m\u001b[43m)\u001b[49m\n\u001b[1;32m   1177\u001b[0m \u001b[43m\u001b[49m\u001b[43m)\u001b[49m\n\u001b[1;32m   1179\u001b[0m \u001b[38;5;66;03m# Reduce\u001b[39;00m\n\u001b[1;32m   1180\u001b[0m y_hat \u001b[38;5;241m=\u001b[39m \u001b[38;5;28msum\u001b[39m(all_y_hat) \u001b[38;5;241m/\u001b[39m \u001b[38;5;28mself\u001b[39m\u001b[38;5;241m.\u001b[39mn_estimators\n",
      "File \u001b[0;32m/home/disk/orca/adaley17/anaconda3/envs/geo_env/lib/python3.8/site-packages/joblib/parallel.py:1944\u001b[0m, in \u001b[0;36mParallel.__call__\u001b[0;34m(self, iterable)\u001b[0m\n\u001b[1;32m   1938\u001b[0m \u001b[38;5;66;03m# The first item from the output is blank, but it makes the interpreter\u001b[39;00m\n\u001b[1;32m   1939\u001b[0m \u001b[38;5;66;03m# progress until it enters the Try/Except block of the generator and\u001b[39;00m\n\u001b[1;32m   1940\u001b[0m \u001b[38;5;66;03m# reach the first `yield` statement. This starts the aynchronous\u001b[39;00m\n\u001b[1;32m   1941\u001b[0m \u001b[38;5;66;03m# dispatch of the tasks to the workers.\u001b[39;00m\n\u001b[1;32m   1942\u001b[0m \u001b[38;5;28mnext\u001b[39m(output)\n\u001b[0;32m-> 1944\u001b[0m \u001b[38;5;28;01mreturn\u001b[39;00m output \u001b[38;5;28;01mif\u001b[39;00m \u001b[38;5;28mself\u001b[39m\u001b[38;5;241m.\u001b[39mreturn_generator \u001b[38;5;28;01melse\u001b[39;00m \u001b[38;5;28;43mlist\u001b[39;49m\u001b[43m(\u001b[49m\u001b[43moutput\u001b[49m\u001b[43m)\u001b[49m\n",
      "File \u001b[0;32m/home/disk/orca/adaley17/anaconda3/envs/geo_env/lib/python3.8/site-packages/joblib/parallel.py:1587\u001b[0m, in \u001b[0;36mParallel._get_outputs\u001b[0;34m(self, iterator, pre_dispatch)\u001b[0m\n\u001b[1;32m   1584\u001b[0m     \u001b[38;5;28;01myield\u001b[39;00m\n\u001b[1;32m   1586\u001b[0m     \u001b[38;5;28;01mwith\u001b[39;00m \u001b[38;5;28mself\u001b[39m\u001b[38;5;241m.\u001b[39m_backend\u001b[38;5;241m.\u001b[39mretrieval_context():\n\u001b[0;32m-> 1587\u001b[0m         \u001b[38;5;28;01myield from\u001b[39;00m \u001b[38;5;28mself\u001b[39m\u001b[38;5;241m.\u001b[39m_retrieve()\n\u001b[1;32m   1589\u001b[0m \u001b[38;5;28;01mexcept\u001b[39;00m \u001b[38;5;167;01mGeneratorExit\u001b[39;00m:\n\u001b[1;32m   1590\u001b[0m     \u001b[38;5;66;03m# The generator has been garbage collected before being fully\u001b[39;00m\n\u001b[1;32m   1591\u001b[0m     \u001b[38;5;66;03m# consumed. This aborts the remaining tasks if possible and warn\u001b[39;00m\n\u001b[1;32m   1592\u001b[0m     \u001b[38;5;66;03m# the user if necessary.\u001b[39;00m\n\u001b[1;32m   1593\u001b[0m     \u001b[38;5;28mself\u001b[39m\u001b[38;5;241m.\u001b[39m_exception \u001b[38;5;241m=\u001b[39m \u001b[38;5;28;01mTrue\u001b[39;00m\n",
      "File \u001b[0;32m/home/disk/orca/adaley17/anaconda3/envs/geo_env/lib/python3.8/site-packages/joblib/parallel.py:1699\u001b[0m, in \u001b[0;36mParallel._retrieve\u001b[0;34m(self)\u001b[0m\n\u001b[1;32m   1694\u001b[0m \u001b[38;5;66;03m# If the next job is not ready for retrieval yet, we just wait for\u001b[39;00m\n\u001b[1;32m   1695\u001b[0m \u001b[38;5;66;03m# async callbacks to progress.\u001b[39;00m\n\u001b[1;32m   1696\u001b[0m \u001b[38;5;28;01mif\u001b[39;00m ((\u001b[38;5;28mlen\u001b[39m(\u001b[38;5;28mself\u001b[39m\u001b[38;5;241m.\u001b[39m_jobs) \u001b[38;5;241m==\u001b[39m \u001b[38;5;241m0\u001b[39m) \u001b[38;5;129;01mor\u001b[39;00m\n\u001b[1;32m   1697\u001b[0m     (\u001b[38;5;28mself\u001b[39m\u001b[38;5;241m.\u001b[39m_jobs[\u001b[38;5;241m0\u001b[39m]\u001b[38;5;241m.\u001b[39mget_status(\n\u001b[1;32m   1698\u001b[0m         timeout\u001b[38;5;241m=\u001b[39m\u001b[38;5;28mself\u001b[39m\u001b[38;5;241m.\u001b[39mtimeout) \u001b[38;5;241m==\u001b[39m TASK_PENDING)):\n\u001b[0;32m-> 1699\u001b[0m     \u001b[43mtime\u001b[49m\u001b[38;5;241;43m.\u001b[39;49m\u001b[43msleep\u001b[49m\u001b[43m(\u001b[49m\u001b[38;5;241;43m0.01\u001b[39;49m\u001b[43m)\u001b[49m\n\u001b[1;32m   1700\u001b[0m     \u001b[38;5;28;01mcontinue\u001b[39;00m\n\u001b[1;32m   1702\u001b[0m \u001b[38;5;66;03m# We need to be careful: the job list can be filling up as\u001b[39;00m\n\u001b[1;32m   1703\u001b[0m \u001b[38;5;66;03m# we empty it and Python list are not thread-safe by\u001b[39;00m\n\u001b[1;32m   1704\u001b[0m \u001b[38;5;66;03m# default hence the use of the lock\u001b[39;00m\n",
      "\u001b[0;31mKeyboardInterrupt\u001b[0m: "
     ]
    }
   ],
   "source": [
    "from sklearn.metrics import mean_squared_error, r2_score\n",
    "\n",
    "# Initialize lists to store accuracies for each round\n",
    "train_accuracies = []\n",
    "test_accuracies = []\n",
    "n_estimators = 100  # Number of bagging rounds to evaluate\n",
    "\n",
    "# Loop over each round of bagging, increasing the number of estimators each time\n",
    "for i in range(1, n_estimators + 1):\n",
    "    # Define the Bagging Random Forest model with increasing number of estimators\n",
    "    bag_reg_boost = BaggingRegressor(\n",
    "        base_estimator=ExtraTreesRegressor(), n_estimators=i,  # n_estimators is the number of models to train\n",
    "        max_samples=1000, bootstrap=False, # bootstrap is for bagging vs pasting\n",
    "        n_jobs=-1, # number of CPU cores independently used for training and prediction. Use -1 for all available cores\n",
    "        )\n",
    "    \n",
    "    # Fit the model on the training data\n",
    "    bag_reg_pass.fit(X_train, y_train)\n",
    "    \n",
    "    # Calculate R^2 score for training and test sets\n",
    "    train_accuracy = r2_score(y_train, bag_reg_pass.predict(X_train))\n",
    "    test_accuracy = r2_score(y_test, bag_reg_pass.predict(X_test))\n",
    "    \n",
    "    # Store the accuracies\n",
    "    train_accuracies.append(train_accuracy)\n",
    "    test_accuracies.append(test_accuracy)\n",
    "\n",
    "# Plot Training and Test Accuracy Across Training Rounds\n",
    "plt.figure(figsize=(10, 6))\n",
    "plt.plot(range(1, n_estimators + 1), train_accuracies, label=\"Training Accuracy\", marker='o', color=\"blue\")\n",
    "plt.plot(range(1, n_estimators + 1), test_accuracies, label=\"Test Accuracy\", marker='o', color=\"red\")\n",
    "plt.xlabel(\"Number of Estimators (Rounds)\")\n",
    "plt.ylabel(\"Accuracy\")\n",
    "plt.title(\"Training and Test Accuracy Across Bagging Rounds for Random Forest\")\n",
    "plt.legend(loc=\"best\")\n",
    "plt.grid()\n",
    "plt.show()"
   ]
  },
  {
   "cell_type": "markdown",
   "metadata": {},
   "source": [
    "The model performs quite well in both training set and validation set since there is not a significant fluctuation as the number of rounds increase."
   ]
  }
 ],
 "metadata": {
  "kernelspec": {
   "display_name": "geo_env",
   "language": "python",
   "name": "python3"
  },
  "language_info": {
   "codemirror_mode": {
    "name": "ipython",
    "version": 3
   },
   "file_extension": ".py",
   "mimetype": "text/x-python",
   "name": "python",
   "nbconvert_exporter": "python",
   "pygments_lexer": "ipython3",
   "version": "3.8.13"
  }
 },
 "nbformat": 4,
 "nbformat_minor": 2
}
